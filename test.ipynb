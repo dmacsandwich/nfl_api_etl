{
 "cells": [
  {
   "cell_type": "code",
   "execution_count": 29,
   "metadata": {},
   "outputs": [],
   "source": [
    "import requests\n",
    "\n",
    "\n",
    "class NflApi:\n",
    "     \n",
    "    def get_data_from_url(self, url: str) -> dict:\n",
    "        \"\"\"Gets data from specified URL and returns in form of dict\n",
    "        raises exception otherwise.\n",
    "\n",
    "        Args:\n",
    "            url (str): API url to get data\n",
    "\n",
    "        Returns:\n",
    "            dict: Returns dict of the data from URL.\n",
    "        \"\"\"\n",
    "        response = requests.get(url)\n",
    "        try:\n",
    "            return response.json()\n",
    "        except:\n",
    "            print('Error')\n",
    "\n",
    "TEAMS_IDS = f'https://site.api.espn.com/apis/site/v2/sports/football/nfl/teams'\n",
    "\n",
    "#TODO add a dynamic way to update this url\n",
    "ATHLETE_IDS = f'https://site.api.espn.com/apis/site/v2/sports/football/nfl/teams/12/roster'\n",
    "\n",
    "\n",
    "\n"
   ]
  },
  {
   "cell_type": "code",
   "execution_count": 36,
   "metadata": {},
   "outputs": [],
   "source": [
    "teams_data =  NflApi().get_data_from_url(url = TEAMS_IDS)\n",
    "\n",
    "\n",
    "#TODO make api use generators for further enhancement, make url dynamic for different values\n",
    "def get_game_ids(data: list[dict])-> list[tuple]:\n",
    "    num_of_teams = len(teams_data['sports'][0]['leagues'][0]['teams'])\n",
    "    \n",
    "    return [(teams_data['sports'][0]['leagues'][0]['teams'][i]['team']['id'], \\\n",
    "             teams_data['sports'][0]['leagues'][0]['teams'][i]['team']['displayName']) \\\n",
    "            for i in range(num_of_teams)]\n",
    "    \n",
    "#TODO seperate api call, transformation & load into separate files, \n",
    "import pandas as pd\n",
    "\n",
    "team_ids_df = pd.DataFrame(get_game_ids(teams_data), \n",
    "                           columns=['team_id', 'team_name'])"
   ]
  },
  {
   "cell_type": "code",
   "execution_count": 39,
   "metadata": {},
   "outputs": [],
   "source": [
    "athlete_data =  NflApi().get_data_from_url(url = ATHLETE_IDS)\n",
    "\n",
    "team_rosters = []\n",
    "\n",
    "# Iterate through team_ids in teams_df\n",
    "for team_id, team_name in zip(team_ids_df['team_id'], team_ids_df['team_name']):\n",
    "    # Make API request\n",
    "    api_url = f'https://site.api.espn.com/apis/site/v2/sports/football/nfl/teams/{team_id}/roster'\n",
    "    response = requests.get(api_url)\n",
    "    \n",
    "    # Check if the request was successful (status code 200)\n",
    "    if response.status_code == 200:\n",
    "        roster_data = response.json()\n",
    "        \n",
    "        # Store the roster data in the dictionary with team_id as the key\n",
    "        num_of_athletes = len(roster_data['athletes'][0]['items'])\n",
    "        \n",
    "        for i in range(num_of_athletes):\n",
    "            player_name = roster_data['athletes'][0]['items'][i]['fullName']\n",
    "            team_rosters.append({'team_name': team_name, 'player_name': player_name})\n",
    "    else:\n",
    "        print(f\"Failed to fetch data for {team_name} (Team ID: {team_id})\")\n",
    "\n",
    "# Create a DataFrame from the list of dictionaries\n",
    "team_player_df = pd.DataFrame(team_rosters)"
   ]
  }
 ],
 "metadata": {
  "kernelspec": {
   "display_name": "Python 3",
   "language": "python",
   "name": "python3"
  },
  "language_info": {
   "codemirror_mode": {
    "name": "ipython",
    "version": 3
   },
   "file_extension": ".py",
   "mimetype": "text/x-python",
   "name": "python",
   "nbconvert_exporter": "python",
   "pygments_lexer": "ipython3",
   "version": "3.11.6"
  },
  "orig_nbformat": 4
 },
 "nbformat": 4,
 "nbformat_minor": 2
}
